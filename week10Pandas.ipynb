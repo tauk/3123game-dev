{
  "nbformat": 4,
  "nbformat_minor": 0,
  "metadata": {
    "colab": {
      "name": "week10Pandas.ipynb",
      "provenance": [],
      "authorship_tag": "ABX9TyNFvRs5BqygJVxMaEL338a6",
      "include_colab_link": true
    },
    "kernelspec": {
      "name": "python3",
      "display_name": "Python 3"
    }
  },
  "cells": [
    {
      "cell_type": "markdown",
      "metadata": {
        "id": "view-in-github",
        "colab_type": "text"
      },
      "source": [
        "<a href=\"https://colab.research.google.com/github/tauk/3123game-dev/blob/master/week10Pandas.ipynb\" target=\"_parent\"><img src=\"https://colab.research.google.com/assets/colab-badge.svg\" alt=\"Open In Colab\"/></a>"
      ]
    },
    {
      "cell_type": "code",
      "metadata": {
        "id": "WVzXWal-RKNk",
        "outputId": "79b15f09-9790-420f-b689-d8802ed211d4",
        "colab": {
          "base_uri": "https://localhost:8080/",
          "height": 785
        }
      },
      "source": [
        "import pandas as pd\n",
        "grades = pd.read_excel(\"Marks.xlsx\", sheet_name=\"Grades\", skiprows=3)\n",
        "grades"
      ],
      "execution_count": 1,
      "outputs": [
        {
          "output_type": "execute_result",
          "data": {
            "text/html": [
              "<div>\n",
              "<style scoped>\n",
              "    .dataframe tbody tr th:only-of-type {\n",
              "        vertical-align: middle;\n",
              "    }\n",
              "\n",
              "    .dataframe tbody tr th {\n",
              "        vertical-align: top;\n",
              "    }\n",
              "\n",
              "    .dataframe thead th {\n",
              "        text-align: right;\n",
              "    }\n",
              "</style>\n",
              "<table border=\"1\" class=\"dataframe\">\n",
              "  <thead>\n",
              "    <tr style=\"text-align: right;\">\n",
              "      <th></th>\n",
              "      <th>ID</th>\n",
              "      <th>Division</th>\n",
              "      <th>Quiz</th>\n",
              "      <th>Practical</th>\n",
              "      <th>Project</th>\n",
              "      <th>Final</th>\n",
              "    </tr>\n",
              "  </thead>\n",
              "  <tbody>\n",
              "    <tr>\n",
              "      <th>0</th>\n",
              "      <td>H00247</td>\n",
              "      <td>EDU</td>\n",
              "      <td>84.0</td>\n",
              "      <td>67.0</td>\n",
              "      <td>69.6</td>\n",
              "      <td>67.0</td>\n",
              "    </tr>\n",
              "    <tr>\n",
              "      <th>1</th>\n",
              "      <td>H00258</td>\n",
              "      <td>HLT</td>\n",
              "      <td>74.0</td>\n",
              "      <td>68.0</td>\n",
              "      <td>67.0</td>\n",
              "      <td>73.0</td>\n",
              "    </tr>\n",
              "    <tr>\n",
              "      <th>2</th>\n",
              "      <td>H00269</td>\n",
              "      <td>ENG</td>\n",
              "      <td>88.0</td>\n",
              "      <td>86.0</td>\n",
              "      <td>75.6</td>\n",
              "      <td>74.0</td>\n",
              "    </tr>\n",
              "    <tr>\n",
              "      <th>3</th>\n",
              "      <td>H00224</td>\n",
              "      <td>EDU</td>\n",
              "      <td>NaN</td>\n",
              "      <td>71.0</td>\n",
              "      <td>65.8</td>\n",
              "      <td>71.0</td>\n",
              "    </tr>\n",
              "    <tr>\n",
              "      <th>4</th>\n",
              "      <td>H00269</td>\n",
              "      <td>EDU</td>\n",
              "      <td>22.0</td>\n",
              "      <td>65.0</td>\n",
              "      <td>66.8</td>\n",
              "      <td>78.0</td>\n",
              "    </tr>\n",
              "    <tr>\n",
              "      <th>5</th>\n",
              "      <td>H00277</td>\n",
              "      <td>ENG</td>\n",
              "      <td>40.0</td>\n",
              "      <td>68.0</td>\n",
              "      <td>76.4</td>\n",
              "      <td>68.0</td>\n",
              "    </tr>\n",
              "    <tr>\n",
              "      <th>6</th>\n",
              "      <td>H00277</td>\n",
              "      <td>HLT</td>\n",
              "      <td>71.0</td>\n",
              "      <td>NaN</td>\n",
              "      <td>64.6</td>\n",
              "      <td>70.0</td>\n",
              "    </tr>\n",
              "    <tr>\n",
              "      <th>7</th>\n",
              "      <td>H00293</td>\n",
              "      <td>BUS</td>\n",
              "      <td>50.0</td>\n",
              "      <td>74.0</td>\n",
              "      <td>60.6</td>\n",
              "      <td>78.0</td>\n",
              "    </tr>\n",
              "    <tr>\n",
              "      <th>8</th>\n",
              "      <td>H00247</td>\n",
              "      <td>CIS</td>\n",
              "      <td>61.0</td>\n",
              "      <td>70.0</td>\n",
              "      <td>66.4</td>\n",
              "      <td>82.0</td>\n",
              "    </tr>\n",
              "    <tr>\n",
              "      <th>9</th>\n",
              "      <td>H00149</td>\n",
              "      <td>APP</td>\n",
              "      <td>97.0</td>\n",
              "      <td>98.0</td>\n",
              "      <td>85.2</td>\n",
              "      <td>87.0</td>\n",
              "    </tr>\n",
              "    <tr>\n",
              "      <th>10</th>\n",
              "      <td>H00295</td>\n",
              "      <td>EDU</td>\n",
              "      <td>70.0</td>\n",
              "      <td>76.0</td>\n",
              "      <td>81.0</td>\n",
              "      <td>84.0</td>\n",
              "    </tr>\n",
              "    <tr>\n",
              "      <th>11</th>\n",
              "      <td>H00284</td>\n",
              "      <td>CIS</td>\n",
              "      <td>48.0</td>\n",
              "      <td>64.0</td>\n",
              "      <td>81.4</td>\n",
              "      <td>68.0</td>\n",
              "    </tr>\n",
              "    <tr>\n",
              "      <th>12</th>\n",
              "      <td>H00307</td>\n",
              "      <td>ENG</td>\n",
              "      <td>67.0</td>\n",
              "      <td>77.0</td>\n",
              "      <td>73.0</td>\n",
              "      <td>83.0</td>\n",
              "    </tr>\n",
              "    <tr>\n",
              "      <th>13</th>\n",
              "      <td>H00293</td>\n",
              "      <td>APP</td>\n",
              "      <td>38.0</td>\n",
              "      <td>NaN</td>\n",
              "      <td>64.6</td>\n",
              "      <td>77.0</td>\n",
              "    </tr>\n",
              "    <tr>\n",
              "      <th>14</th>\n",
              "      <td>H00293</td>\n",
              "      <td>BUS</td>\n",
              "      <td>80.0</td>\n",
              "      <td>76.0</td>\n",
              "      <td>68.4</td>\n",
              "      <td>83.0</td>\n",
              "    </tr>\n",
              "    <tr>\n",
              "      <th>15</th>\n",
              "      <td>H00293</td>\n",
              "      <td>APP</td>\n",
              "      <td>83.0</td>\n",
              "      <td>62.0</td>\n",
              "      <td>77.0</td>\n",
              "      <td>85.0</td>\n",
              "    </tr>\n",
              "    <tr>\n",
              "      <th>16</th>\n",
              "      <td>H00248</td>\n",
              "      <td>BUS</td>\n",
              "      <td>73.0</td>\n",
              "      <td>86.0</td>\n",
              "      <td>76.4</td>\n",
              "      <td>77.0</td>\n",
              "    </tr>\n",
              "    <tr>\n",
              "      <th>17</th>\n",
              "      <td>NaN</td>\n",
              "      <td>NaN</td>\n",
              "      <td>NaN</td>\n",
              "      <td>NaN</td>\n",
              "      <td>NaN</td>\n",
              "      <td>NaN</td>\n",
              "    </tr>\n",
              "    <tr>\n",
              "      <th>18</th>\n",
              "      <td>H00269</td>\n",
              "      <td>BUS</td>\n",
              "      <td>61.0</td>\n",
              "      <td>61.0</td>\n",
              "      <td>61.0</td>\n",
              "      <td>77.0</td>\n",
              "    </tr>\n",
              "    <tr>\n",
              "      <th>19</th>\n",
              "      <td>H00307</td>\n",
              "      <td>ENG</td>\n",
              "      <td>60.0</td>\n",
              "      <td>60.0</td>\n",
              "      <td>68.0</td>\n",
              "      <td>70.0</td>\n",
              "    </tr>\n",
              "    <tr>\n",
              "      <th>20</th>\n",
              "      <td>H00247</td>\n",
              "      <td>APP</td>\n",
              "      <td>60.0</td>\n",
              "      <td>65.0</td>\n",
              "      <td>62.8</td>\n",
              "      <td>69.0</td>\n",
              "    </tr>\n",
              "    <tr>\n",
              "      <th>21</th>\n",
              "      <td>H00269</td>\n",
              "      <td>HLT</td>\n",
              "      <td>75.0</td>\n",
              "      <td>63.0</td>\n",
              "      <td>71.0</td>\n",
              "      <td>72.0</td>\n",
              "    </tr>\n",
              "    <tr>\n",
              "      <th>22</th>\n",
              "      <td>H00293</td>\n",
              "      <td>CIS</td>\n",
              "      <td>76.0</td>\n",
              "      <td>88.0</td>\n",
              "      <td>81.4</td>\n",
              "      <td>75.0</td>\n",
              "    </tr>\n",
              "    <tr>\n",
              "      <th>23</th>\n",
              "      <td>H00293</td>\n",
              "      <td>ENG</td>\n",
              "      <td>61.0</td>\n",
              "      <td>83.0</td>\n",
              "      <td>71.0</td>\n",
              "      <td>73.0</td>\n",
              "    </tr>\n",
              "  </tbody>\n",
              "</table>\n",
              "</div>"
            ],
            "text/plain": [
              "       ID  Division  Quiz  Practical  Project  Final\n",
              "0   H00247      EDU  84.0       67.0     69.6   67.0\n",
              "1   H00258      HLT  74.0       68.0     67.0   73.0\n",
              "2   H00269      ENG  88.0       86.0     75.6   74.0\n",
              "3   H00224      EDU   NaN       71.0     65.8   71.0\n",
              "4   H00269      EDU  22.0       65.0     66.8   78.0\n",
              "5   H00277      ENG  40.0       68.0     76.4   68.0\n",
              "6   H00277      HLT  71.0        NaN     64.6   70.0\n",
              "7   H00293      BUS  50.0       74.0     60.6   78.0\n",
              "8   H00247      CIS  61.0       70.0     66.4   82.0\n",
              "9   H00149      APP  97.0       98.0     85.2   87.0\n",
              "10  H00295      EDU  70.0       76.0     81.0   84.0\n",
              "11  H00284      CIS  48.0       64.0     81.4   68.0\n",
              "12  H00307      ENG  67.0       77.0     73.0   83.0\n",
              "13  H00293      APP  38.0        NaN     64.6   77.0\n",
              "14  H00293      BUS  80.0       76.0     68.4   83.0\n",
              "15  H00293      APP  83.0       62.0     77.0   85.0\n",
              "16  H00248      BUS  73.0       86.0     76.4   77.0\n",
              "17     NaN      NaN   NaN        NaN      NaN    NaN\n",
              "18  H00269      BUS  61.0       61.0     61.0   77.0\n",
              "19  H00307      ENG  60.0       60.0     68.0   70.0\n",
              "20  H00247      APP  60.0       65.0     62.8   69.0\n",
              "21  H00269      HLT  75.0       63.0     71.0   72.0\n",
              "22  H00293      CIS  76.0       88.0     81.4   75.0\n",
              "23  H00293      ENG  61.0       83.0     71.0   73.0"
            ]
          },
          "metadata": {
            "tags": []
          },
          "execution_count": 1
        }
      ]
    },
    {
      "cell_type": "code",
      "metadata": {
        "id": "QwAqGbgOThoP",
        "outputId": "f7467a20-c676-4e11-909f-dfa878c9c18b",
        "colab": {
          "base_uri": "https://localhost:8080/",
          "height": 754
        }
      },
      "source": [
        "grades_cleaned = grades.dropna(how=\"all\")\n",
        "grades_cleaned"
      ],
      "execution_count": 2,
      "outputs": [
        {
          "output_type": "execute_result",
          "data": {
            "text/html": [
              "<div>\n",
              "<style scoped>\n",
              "    .dataframe tbody tr th:only-of-type {\n",
              "        vertical-align: middle;\n",
              "    }\n",
              "\n",
              "    .dataframe tbody tr th {\n",
              "        vertical-align: top;\n",
              "    }\n",
              "\n",
              "    .dataframe thead th {\n",
              "        text-align: right;\n",
              "    }\n",
              "</style>\n",
              "<table border=\"1\" class=\"dataframe\">\n",
              "  <thead>\n",
              "    <tr style=\"text-align: right;\">\n",
              "      <th></th>\n",
              "      <th>ID</th>\n",
              "      <th>Division</th>\n",
              "      <th>Quiz</th>\n",
              "      <th>Practical</th>\n",
              "      <th>Project</th>\n",
              "      <th>Final</th>\n",
              "    </tr>\n",
              "  </thead>\n",
              "  <tbody>\n",
              "    <tr>\n",
              "      <th>0</th>\n",
              "      <td>H00247</td>\n",
              "      <td>EDU</td>\n",
              "      <td>84.0</td>\n",
              "      <td>67.0</td>\n",
              "      <td>69.6</td>\n",
              "      <td>67.0</td>\n",
              "    </tr>\n",
              "    <tr>\n",
              "      <th>1</th>\n",
              "      <td>H00258</td>\n",
              "      <td>HLT</td>\n",
              "      <td>74.0</td>\n",
              "      <td>68.0</td>\n",
              "      <td>67.0</td>\n",
              "      <td>73.0</td>\n",
              "    </tr>\n",
              "    <tr>\n",
              "      <th>2</th>\n",
              "      <td>H00269</td>\n",
              "      <td>ENG</td>\n",
              "      <td>88.0</td>\n",
              "      <td>86.0</td>\n",
              "      <td>75.6</td>\n",
              "      <td>74.0</td>\n",
              "    </tr>\n",
              "    <tr>\n",
              "      <th>3</th>\n",
              "      <td>H00224</td>\n",
              "      <td>EDU</td>\n",
              "      <td>NaN</td>\n",
              "      <td>71.0</td>\n",
              "      <td>65.8</td>\n",
              "      <td>71.0</td>\n",
              "    </tr>\n",
              "    <tr>\n",
              "      <th>4</th>\n",
              "      <td>H00269</td>\n",
              "      <td>EDU</td>\n",
              "      <td>22.0</td>\n",
              "      <td>65.0</td>\n",
              "      <td>66.8</td>\n",
              "      <td>78.0</td>\n",
              "    </tr>\n",
              "    <tr>\n",
              "      <th>5</th>\n",
              "      <td>H00277</td>\n",
              "      <td>ENG</td>\n",
              "      <td>40.0</td>\n",
              "      <td>68.0</td>\n",
              "      <td>76.4</td>\n",
              "      <td>68.0</td>\n",
              "    </tr>\n",
              "    <tr>\n",
              "      <th>6</th>\n",
              "      <td>H00277</td>\n",
              "      <td>HLT</td>\n",
              "      <td>71.0</td>\n",
              "      <td>NaN</td>\n",
              "      <td>64.6</td>\n",
              "      <td>70.0</td>\n",
              "    </tr>\n",
              "    <tr>\n",
              "      <th>7</th>\n",
              "      <td>H00293</td>\n",
              "      <td>BUS</td>\n",
              "      <td>50.0</td>\n",
              "      <td>74.0</td>\n",
              "      <td>60.6</td>\n",
              "      <td>78.0</td>\n",
              "    </tr>\n",
              "    <tr>\n",
              "      <th>8</th>\n",
              "      <td>H00247</td>\n",
              "      <td>CIS</td>\n",
              "      <td>61.0</td>\n",
              "      <td>70.0</td>\n",
              "      <td>66.4</td>\n",
              "      <td>82.0</td>\n",
              "    </tr>\n",
              "    <tr>\n",
              "      <th>9</th>\n",
              "      <td>H00149</td>\n",
              "      <td>APP</td>\n",
              "      <td>97.0</td>\n",
              "      <td>98.0</td>\n",
              "      <td>85.2</td>\n",
              "      <td>87.0</td>\n",
              "    </tr>\n",
              "    <tr>\n",
              "      <th>10</th>\n",
              "      <td>H00295</td>\n",
              "      <td>EDU</td>\n",
              "      <td>70.0</td>\n",
              "      <td>76.0</td>\n",
              "      <td>81.0</td>\n",
              "      <td>84.0</td>\n",
              "    </tr>\n",
              "    <tr>\n",
              "      <th>11</th>\n",
              "      <td>H00284</td>\n",
              "      <td>CIS</td>\n",
              "      <td>48.0</td>\n",
              "      <td>64.0</td>\n",
              "      <td>81.4</td>\n",
              "      <td>68.0</td>\n",
              "    </tr>\n",
              "    <tr>\n",
              "      <th>12</th>\n",
              "      <td>H00307</td>\n",
              "      <td>ENG</td>\n",
              "      <td>67.0</td>\n",
              "      <td>77.0</td>\n",
              "      <td>73.0</td>\n",
              "      <td>83.0</td>\n",
              "    </tr>\n",
              "    <tr>\n",
              "      <th>13</th>\n",
              "      <td>H00293</td>\n",
              "      <td>APP</td>\n",
              "      <td>38.0</td>\n",
              "      <td>NaN</td>\n",
              "      <td>64.6</td>\n",
              "      <td>77.0</td>\n",
              "    </tr>\n",
              "    <tr>\n",
              "      <th>14</th>\n",
              "      <td>H00293</td>\n",
              "      <td>BUS</td>\n",
              "      <td>80.0</td>\n",
              "      <td>76.0</td>\n",
              "      <td>68.4</td>\n",
              "      <td>83.0</td>\n",
              "    </tr>\n",
              "    <tr>\n",
              "      <th>15</th>\n",
              "      <td>H00293</td>\n",
              "      <td>APP</td>\n",
              "      <td>83.0</td>\n",
              "      <td>62.0</td>\n",
              "      <td>77.0</td>\n",
              "      <td>85.0</td>\n",
              "    </tr>\n",
              "    <tr>\n",
              "      <th>16</th>\n",
              "      <td>H00248</td>\n",
              "      <td>BUS</td>\n",
              "      <td>73.0</td>\n",
              "      <td>86.0</td>\n",
              "      <td>76.4</td>\n",
              "      <td>77.0</td>\n",
              "    </tr>\n",
              "    <tr>\n",
              "      <th>18</th>\n",
              "      <td>H00269</td>\n",
              "      <td>BUS</td>\n",
              "      <td>61.0</td>\n",
              "      <td>61.0</td>\n",
              "      <td>61.0</td>\n",
              "      <td>77.0</td>\n",
              "    </tr>\n",
              "    <tr>\n",
              "      <th>19</th>\n",
              "      <td>H00307</td>\n",
              "      <td>ENG</td>\n",
              "      <td>60.0</td>\n",
              "      <td>60.0</td>\n",
              "      <td>68.0</td>\n",
              "      <td>70.0</td>\n",
              "    </tr>\n",
              "    <tr>\n",
              "      <th>20</th>\n",
              "      <td>H00247</td>\n",
              "      <td>APP</td>\n",
              "      <td>60.0</td>\n",
              "      <td>65.0</td>\n",
              "      <td>62.8</td>\n",
              "      <td>69.0</td>\n",
              "    </tr>\n",
              "    <tr>\n",
              "      <th>21</th>\n",
              "      <td>H00269</td>\n",
              "      <td>HLT</td>\n",
              "      <td>75.0</td>\n",
              "      <td>63.0</td>\n",
              "      <td>71.0</td>\n",
              "      <td>72.0</td>\n",
              "    </tr>\n",
              "    <tr>\n",
              "      <th>22</th>\n",
              "      <td>H00293</td>\n",
              "      <td>CIS</td>\n",
              "      <td>76.0</td>\n",
              "      <td>88.0</td>\n",
              "      <td>81.4</td>\n",
              "      <td>75.0</td>\n",
              "    </tr>\n",
              "    <tr>\n",
              "      <th>23</th>\n",
              "      <td>H00293</td>\n",
              "      <td>ENG</td>\n",
              "      <td>61.0</td>\n",
              "      <td>83.0</td>\n",
              "      <td>71.0</td>\n",
              "      <td>73.0</td>\n",
              "    </tr>\n",
              "  </tbody>\n",
              "</table>\n",
              "</div>"
            ],
            "text/plain": [
              "       ID  Division  Quiz  Practical  Project  Final\n",
              "0   H00247      EDU  84.0       67.0     69.6   67.0\n",
              "1   H00258      HLT  74.0       68.0     67.0   73.0\n",
              "2   H00269      ENG  88.0       86.0     75.6   74.0\n",
              "3   H00224      EDU   NaN       71.0     65.8   71.0\n",
              "4   H00269      EDU  22.0       65.0     66.8   78.0\n",
              "5   H00277      ENG  40.0       68.0     76.4   68.0\n",
              "6   H00277      HLT  71.0        NaN     64.6   70.0\n",
              "7   H00293      BUS  50.0       74.0     60.6   78.0\n",
              "8   H00247      CIS  61.0       70.0     66.4   82.0\n",
              "9   H00149      APP  97.0       98.0     85.2   87.0\n",
              "10  H00295      EDU  70.0       76.0     81.0   84.0\n",
              "11  H00284      CIS  48.0       64.0     81.4   68.0\n",
              "12  H00307      ENG  67.0       77.0     73.0   83.0\n",
              "13  H00293      APP  38.0        NaN     64.6   77.0\n",
              "14  H00293      BUS  80.0       76.0     68.4   83.0\n",
              "15  H00293      APP  83.0       62.0     77.0   85.0\n",
              "16  H00248      BUS  73.0       86.0     76.4   77.0\n",
              "18  H00269      BUS  61.0       61.0     61.0   77.0\n",
              "19  H00307      ENG  60.0       60.0     68.0   70.0\n",
              "20  H00247      APP  60.0       65.0     62.8   69.0\n",
              "21  H00269      HLT  75.0       63.0     71.0   72.0\n",
              "22  H00293      CIS  76.0       88.0     81.4   75.0\n",
              "23  H00293      ENG  61.0       83.0     71.0   73.0"
            ]
          },
          "metadata": {
            "tags": []
          },
          "execution_count": 2
        }
      ]
    },
    {
      "cell_type": "code",
      "metadata": {
        "id": "Lj7_GIQNURyM",
        "outputId": "a1851598-5c80-4bd4-fd22-9eca874ecdec",
        "colab": {
          "base_uri": "https://localhost:8080/",
          "height": 754
        }
      },
      "source": [
        "grades_cleaned = grades_cleaned.fillna(0)\n",
        "grades_cleaned"
      ],
      "execution_count": 3,
      "outputs": [
        {
          "output_type": "execute_result",
          "data": {
            "text/html": [
              "<div>\n",
              "<style scoped>\n",
              "    .dataframe tbody tr th:only-of-type {\n",
              "        vertical-align: middle;\n",
              "    }\n",
              "\n",
              "    .dataframe tbody tr th {\n",
              "        vertical-align: top;\n",
              "    }\n",
              "\n",
              "    .dataframe thead th {\n",
              "        text-align: right;\n",
              "    }\n",
              "</style>\n",
              "<table border=\"1\" class=\"dataframe\">\n",
              "  <thead>\n",
              "    <tr style=\"text-align: right;\">\n",
              "      <th></th>\n",
              "      <th>ID</th>\n",
              "      <th>Division</th>\n",
              "      <th>Quiz</th>\n",
              "      <th>Practical</th>\n",
              "      <th>Project</th>\n",
              "      <th>Final</th>\n",
              "    </tr>\n",
              "  </thead>\n",
              "  <tbody>\n",
              "    <tr>\n",
              "      <th>0</th>\n",
              "      <td>H00247</td>\n",
              "      <td>EDU</td>\n",
              "      <td>84.0</td>\n",
              "      <td>67.0</td>\n",
              "      <td>69.6</td>\n",
              "      <td>67.0</td>\n",
              "    </tr>\n",
              "    <tr>\n",
              "      <th>1</th>\n",
              "      <td>H00258</td>\n",
              "      <td>HLT</td>\n",
              "      <td>74.0</td>\n",
              "      <td>68.0</td>\n",
              "      <td>67.0</td>\n",
              "      <td>73.0</td>\n",
              "    </tr>\n",
              "    <tr>\n",
              "      <th>2</th>\n",
              "      <td>H00269</td>\n",
              "      <td>ENG</td>\n",
              "      <td>88.0</td>\n",
              "      <td>86.0</td>\n",
              "      <td>75.6</td>\n",
              "      <td>74.0</td>\n",
              "    </tr>\n",
              "    <tr>\n",
              "      <th>3</th>\n",
              "      <td>H00224</td>\n",
              "      <td>EDU</td>\n",
              "      <td>0.0</td>\n",
              "      <td>71.0</td>\n",
              "      <td>65.8</td>\n",
              "      <td>71.0</td>\n",
              "    </tr>\n",
              "    <tr>\n",
              "      <th>4</th>\n",
              "      <td>H00269</td>\n",
              "      <td>EDU</td>\n",
              "      <td>22.0</td>\n",
              "      <td>65.0</td>\n",
              "      <td>66.8</td>\n",
              "      <td>78.0</td>\n",
              "    </tr>\n",
              "    <tr>\n",
              "      <th>5</th>\n",
              "      <td>H00277</td>\n",
              "      <td>ENG</td>\n",
              "      <td>40.0</td>\n",
              "      <td>68.0</td>\n",
              "      <td>76.4</td>\n",
              "      <td>68.0</td>\n",
              "    </tr>\n",
              "    <tr>\n",
              "      <th>6</th>\n",
              "      <td>H00277</td>\n",
              "      <td>HLT</td>\n",
              "      <td>71.0</td>\n",
              "      <td>0.0</td>\n",
              "      <td>64.6</td>\n",
              "      <td>70.0</td>\n",
              "    </tr>\n",
              "    <tr>\n",
              "      <th>7</th>\n",
              "      <td>H00293</td>\n",
              "      <td>BUS</td>\n",
              "      <td>50.0</td>\n",
              "      <td>74.0</td>\n",
              "      <td>60.6</td>\n",
              "      <td>78.0</td>\n",
              "    </tr>\n",
              "    <tr>\n",
              "      <th>8</th>\n",
              "      <td>H00247</td>\n",
              "      <td>CIS</td>\n",
              "      <td>61.0</td>\n",
              "      <td>70.0</td>\n",
              "      <td>66.4</td>\n",
              "      <td>82.0</td>\n",
              "    </tr>\n",
              "    <tr>\n",
              "      <th>9</th>\n",
              "      <td>H00149</td>\n",
              "      <td>APP</td>\n",
              "      <td>97.0</td>\n",
              "      <td>98.0</td>\n",
              "      <td>85.2</td>\n",
              "      <td>87.0</td>\n",
              "    </tr>\n",
              "    <tr>\n",
              "      <th>10</th>\n",
              "      <td>H00295</td>\n",
              "      <td>EDU</td>\n",
              "      <td>70.0</td>\n",
              "      <td>76.0</td>\n",
              "      <td>81.0</td>\n",
              "      <td>84.0</td>\n",
              "    </tr>\n",
              "    <tr>\n",
              "      <th>11</th>\n",
              "      <td>H00284</td>\n",
              "      <td>CIS</td>\n",
              "      <td>48.0</td>\n",
              "      <td>64.0</td>\n",
              "      <td>81.4</td>\n",
              "      <td>68.0</td>\n",
              "    </tr>\n",
              "    <tr>\n",
              "      <th>12</th>\n",
              "      <td>H00307</td>\n",
              "      <td>ENG</td>\n",
              "      <td>67.0</td>\n",
              "      <td>77.0</td>\n",
              "      <td>73.0</td>\n",
              "      <td>83.0</td>\n",
              "    </tr>\n",
              "    <tr>\n",
              "      <th>13</th>\n",
              "      <td>H00293</td>\n",
              "      <td>APP</td>\n",
              "      <td>38.0</td>\n",
              "      <td>0.0</td>\n",
              "      <td>64.6</td>\n",
              "      <td>77.0</td>\n",
              "    </tr>\n",
              "    <tr>\n",
              "      <th>14</th>\n",
              "      <td>H00293</td>\n",
              "      <td>BUS</td>\n",
              "      <td>80.0</td>\n",
              "      <td>76.0</td>\n",
              "      <td>68.4</td>\n",
              "      <td>83.0</td>\n",
              "    </tr>\n",
              "    <tr>\n",
              "      <th>15</th>\n",
              "      <td>H00293</td>\n",
              "      <td>APP</td>\n",
              "      <td>83.0</td>\n",
              "      <td>62.0</td>\n",
              "      <td>77.0</td>\n",
              "      <td>85.0</td>\n",
              "    </tr>\n",
              "    <tr>\n",
              "      <th>16</th>\n",
              "      <td>H00248</td>\n",
              "      <td>BUS</td>\n",
              "      <td>73.0</td>\n",
              "      <td>86.0</td>\n",
              "      <td>76.4</td>\n",
              "      <td>77.0</td>\n",
              "    </tr>\n",
              "    <tr>\n",
              "      <th>18</th>\n",
              "      <td>H00269</td>\n",
              "      <td>BUS</td>\n",
              "      <td>61.0</td>\n",
              "      <td>61.0</td>\n",
              "      <td>61.0</td>\n",
              "      <td>77.0</td>\n",
              "    </tr>\n",
              "    <tr>\n",
              "      <th>19</th>\n",
              "      <td>H00307</td>\n",
              "      <td>ENG</td>\n",
              "      <td>60.0</td>\n",
              "      <td>60.0</td>\n",
              "      <td>68.0</td>\n",
              "      <td>70.0</td>\n",
              "    </tr>\n",
              "    <tr>\n",
              "      <th>20</th>\n",
              "      <td>H00247</td>\n",
              "      <td>APP</td>\n",
              "      <td>60.0</td>\n",
              "      <td>65.0</td>\n",
              "      <td>62.8</td>\n",
              "      <td>69.0</td>\n",
              "    </tr>\n",
              "    <tr>\n",
              "      <th>21</th>\n",
              "      <td>H00269</td>\n",
              "      <td>HLT</td>\n",
              "      <td>75.0</td>\n",
              "      <td>63.0</td>\n",
              "      <td>71.0</td>\n",
              "      <td>72.0</td>\n",
              "    </tr>\n",
              "    <tr>\n",
              "      <th>22</th>\n",
              "      <td>H00293</td>\n",
              "      <td>CIS</td>\n",
              "      <td>76.0</td>\n",
              "      <td>88.0</td>\n",
              "      <td>81.4</td>\n",
              "      <td>75.0</td>\n",
              "    </tr>\n",
              "    <tr>\n",
              "      <th>23</th>\n",
              "      <td>H00293</td>\n",
              "      <td>ENG</td>\n",
              "      <td>61.0</td>\n",
              "      <td>83.0</td>\n",
              "      <td>71.0</td>\n",
              "      <td>73.0</td>\n",
              "    </tr>\n",
              "  </tbody>\n",
              "</table>\n",
              "</div>"
            ],
            "text/plain": [
              "       ID  Division  Quiz  Practical  Project  Final\n",
              "0   H00247      EDU  84.0       67.0     69.6   67.0\n",
              "1   H00258      HLT  74.0       68.0     67.0   73.0\n",
              "2   H00269      ENG  88.0       86.0     75.6   74.0\n",
              "3   H00224      EDU   0.0       71.0     65.8   71.0\n",
              "4   H00269      EDU  22.0       65.0     66.8   78.0\n",
              "5   H00277      ENG  40.0       68.0     76.4   68.0\n",
              "6   H00277      HLT  71.0        0.0     64.6   70.0\n",
              "7   H00293      BUS  50.0       74.0     60.6   78.0\n",
              "8   H00247      CIS  61.0       70.0     66.4   82.0\n",
              "9   H00149      APP  97.0       98.0     85.2   87.0\n",
              "10  H00295      EDU  70.0       76.0     81.0   84.0\n",
              "11  H00284      CIS  48.0       64.0     81.4   68.0\n",
              "12  H00307      ENG  67.0       77.0     73.0   83.0\n",
              "13  H00293      APP  38.0        0.0     64.6   77.0\n",
              "14  H00293      BUS  80.0       76.0     68.4   83.0\n",
              "15  H00293      APP  83.0       62.0     77.0   85.0\n",
              "16  H00248      BUS  73.0       86.0     76.4   77.0\n",
              "18  H00269      BUS  61.0       61.0     61.0   77.0\n",
              "19  H00307      ENG  60.0       60.0     68.0   70.0\n",
              "20  H00247      APP  60.0       65.0     62.8   69.0\n",
              "21  H00269      HLT  75.0       63.0     71.0   72.0\n",
              "22  H00293      CIS  76.0       88.0     81.4   75.0\n",
              "23  H00293      ENG  61.0       83.0     71.0   73.0"
            ]
          },
          "metadata": {
            "tags": []
          },
          "execution_count": 3
        }
      ]
    },
    {
      "cell_type": "code",
      "metadata": {
        "id": "SDEQVpsvUx-T",
        "outputId": "2a9c9b48-efdb-455e-f952-7af59f4b294d",
        "colab": {
          "base_uri": "https://localhost:8080/",
          "height": 35
        }
      },
      "source": [
        "grades_cleaned.columns"
      ],
      "execution_count": 5,
      "outputs": [
        {
          "output_type": "execute_result",
          "data": {
            "text/plain": [
              "Index(['ID ', 'Division', 'Quiz', 'Practical', 'Project', 'Final'], dtype='object')"
            ]
          },
          "metadata": {
            "tags": []
          },
          "execution_count": 5
        }
      ]
    },
    {
      "cell_type": "code",
      "metadata": {
        "id": "7UBsgFPeWN4x",
        "outputId": "9d7bf79c-bba6-49cf-d8aa-164c50f9ea3e",
        "colab": {
          "base_uri": "https://localhost:8080/",
          "height": 35
        }
      },
      "source": [
        "len(grades_cleaned)"
      ],
      "execution_count": 6,
      "outputs": [
        {
          "output_type": "execute_result",
          "data": {
            "text/plain": [
              "23"
            ]
          },
          "metadata": {
            "tags": []
          },
          "execution_count": 6
        }
      ]
    },
    {
      "cell_type": "code",
      "metadata": {
        "id": "cJDSsGnSWVft",
        "outputId": "a4c5f358-065c-48c5-aec7-caa689bde489",
        "colab": {
          "base_uri": "https://localhost:8080/",
          "height": 35
        }
      },
      "source": [
        "grades.shape"
      ],
      "execution_count": 7,
      "outputs": [
        {
          "output_type": "execute_result",
          "data": {
            "text/plain": [
              "(24, 6)"
            ]
          },
          "metadata": {
            "tags": []
          },
          "execution_count": 7
        }
      ]
    },
    {
      "cell_type": "code",
      "metadata": {
        "id": "LTAsY6KzWbD2",
        "outputId": "94f44777-ab02-4a73-8b5d-374d83fbae7c",
        "colab": {
          "base_uri": "https://localhost:8080/",
          "height": 35
        }
      },
      "source": [
        "grades_cleaned.shape[0]"
      ],
      "execution_count": 8,
      "outputs": [
        {
          "output_type": "execute_result",
          "data": {
            "text/plain": [
              "23"
            ]
          },
          "metadata": {
            "tags": []
          },
          "execution_count": 8
        }
      ]
    },
    {
      "cell_type": "code",
      "metadata": {
        "id": "ENMUxlSWWvaA",
        "outputId": "3819f9c9-c466-4a8f-db7c-92f018f0e3dd",
        "colab": {
          "base_uri": "https://localhost:8080/",
          "height": 35
        }
      },
      "source": [
        "grades_cleaned.shape[1]"
      ],
      "execution_count": 9,
      "outputs": [
        {
          "output_type": "execute_result",
          "data": {
            "text/plain": [
              "6"
            ]
          },
          "metadata": {
            "tags": []
          },
          "execution_count": 9
        }
      ]
    },
    {
      "cell_type": "code",
      "metadata": {
        "id": "dG6k4mB8XHfz",
        "outputId": "d722ce90-0cd4-48e5-cc50-e3c7fa519c4a",
        "colab": {
          "base_uri": "https://localhost:8080/",
          "height": 202
        }
      },
      "source": [
        "#head\n",
        "grades_cleaned.head()"
      ],
      "execution_count": 10,
      "outputs": [
        {
          "output_type": "execute_result",
          "data": {
            "text/html": [
              "<div>\n",
              "<style scoped>\n",
              "    .dataframe tbody tr th:only-of-type {\n",
              "        vertical-align: middle;\n",
              "    }\n",
              "\n",
              "    .dataframe tbody tr th {\n",
              "        vertical-align: top;\n",
              "    }\n",
              "\n",
              "    .dataframe thead th {\n",
              "        text-align: right;\n",
              "    }\n",
              "</style>\n",
              "<table border=\"1\" class=\"dataframe\">\n",
              "  <thead>\n",
              "    <tr style=\"text-align: right;\">\n",
              "      <th></th>\n",
              "      <th>ID</th>\n",
              "      <th>Division</th>\n",
              "      <th>Quiz</th>\n",
              "      <th>Practical</th>\n",
              "      <th>Project</th>\n",
              "      <th>Final</th>\n",
              "    </tr>\n",
              "  </thead>\n",
              "  <tbody>\n",
              "    <tr>\n",
              "      <th>0</th>\n",
              "      <td>H00247</td>\n",
              "      <td>EDU</td>\n",
              "      <td>84.0</td>\n",
              "      <td>67.0</td>\n",
              "      <td>69.6</td>\n",
              "      <td>67.0</td>\n",
              "    </tr>\n",
              "    <tr>\n",
              "      <th>1</th>\n",
              "      <td>H00258</td>\n",
              "      <td>HLT</td>\n",
              "      <td>74.0</td>\n",
              "      <td>68.0</td>\n",
              "      <td>67.0</td>\n",
              "      <td>73.0</td>\n",
              "    </tr>\n",
              "    <tr>\n",
              "      <th>2</th>\n",
              "      <td>H00269</td>\n",
              "      <td>ENG</td>\n",
              "      <td>88.0</td>\n",
              "      <td>86.0</td>\n",
              "      <td>75.6</td>\n",
              "      <td>74.0</td>\n",
              "    </tr>\n",
              "    <tr>\n",
              "      <th>3</th>\n",
              "      <td>H00224</td>\n",
              "      <td>EDU</td>\n",
              "      <td>0.0</td>\n",
              "      <td>71.0</td>\n",
              "      <td>65.8</td>\n",
              "      <td>71.0</td>\n",
              "    </tr>\n",
              "    <tr>\n",
              "      <th>4</th>\n",
              "      <td>H00269</td>\n",
              "      <td>EDU</td>\n",
              "      <td>22.0</td>\n",
              "      <td>65.0</td>\n",
              "      <td>66.8</td>\n",
              "      <td>78.0</td>\n",
              "    </tr>\n",
              "  </tbody>\n",
              "</table>\n",
              "</div>"
            ],
            "text/plain": [
              "      ID  Division  Quiz  Practical  Project  Final\n",
              "0  H00247      EDU  84.0       67.0     69.6   67.0\n",
              "1  H00258      HLT  74.0       68.0     67.0   73.0\n",
              "2  H00269      ENG  88.0       86.0     75.6   74.0\n",
              "3  H00224      EDU   0.0       71.0     65.8   71.0\n",
              "4  H00269      EDU  22.0       65.0     66.8   78.0"
            ]
          },
          "metadata": {
            "tags": []
          },
          "execution_count": 10
        }
      ]
    },
    {
      "cell_type": "code",
      "metadata": {
        "id": "WiFT31OJXgsC",
        "outputId": "8ed4e452-e2d9-484e-971c-82132028c67a",
        "colab": {
          "base_uri": "https://localhost:8080/",
          "height": 355
        }
      },
      "source": [
        "#show the first 10 rows\n",
        "grades_cleaned.head(10)"
      ],
      "execution_count": 11,
      "outputs": [
        {
          "output_type": "execute_result",
          "data": {
            "text/html": [
              "<div>\n",
              "<style scoped>\n",
              "    .dataframe tbody tr th:only-of-type {\n",
              "        vertical-align: middle;\n",
              "    }\n",
              "\n",
              "    .dataframe tbody tr th {\n",
              "        vertical-align: top;\n",
              "    }\n",
              "\n",
              "    .dataframe thead th {\n",
              "        text-align: right;\n",
              "    }\n",
              "</style>\n",
              "<table border=\"1\" class=\"dataframe\">\n",
              "  <thead>\n",
              "    <tr style=\"text-align: right;\">\n",
              "      <th></th>\n",
              "      <th>ID</th>\n",
              "      <th>Division</th>\n",
              "      <th>Quiz</th>\n",
              "      <th>Practical</th>\n",
              "      <th>Project</th>\n",
              "      <th>Final</th>\n",
              "    </tr>\n",
              "  </thead>\n",
              "  <tbody>\n",
              "    <tr>\n",
              "      <th>0</th>\n",
              "      <td>H00247</td>\n",
              "      <td>EDU</td>\n",
              "      <td>84.0</td>\n",
              "      <td>67.0</td>\n",
              "      <td>69.6</td>\n",
              "      <td>67.0</td>\n",
              "    </tr>\n",
              "    <tr>\n",
              "      <th>1</th>\n",
              "      <td>H00258</td>\n",
              "      <td>HLT</td>\n",
              "      <td>74.0</td>\n",
              "      <td>68.0</td>\n",
              "      <td>67.0</td>\n",
              "      <td>73.0</td>\n",
              "    </tr>\n",
              "    <tr>\n",
              "      <th>2</th>\n",
              "      <td>H00269</td>\n",
              "      <td>ENG</td>\n",
              "      <td>88.0</td>\n",
              "      <td>86.0</td>\n",
              "      <td>75.6</td>\n",
              "      <td>74.0</td>\n",
              "    </tr>\n",
              "    <tr>\n",
              "      <th>3</th>\n",
              "      <td>H00224</td>\n",
              "      <td>EDU</td>\n",
              "      <td>0.0</td>\n",
              "      <td>71.0</td>\n",
              "      <td>65.8</td>\n",
              "      <td>71.0</td>\n",
              "    </tr>\n",
              "    <tr>\n",
              "      <th>4</th>\n",
              "      <td>H00269</td>\n",
              "      <td>EDU</td>\n",
              "      <td>22.0</td>\n",
              "      <td>65.0</td>\n",
              "      <td>66.8</td>\n",
              "      <td>78.0</td>\n",
              "    </tr>\n",
              "    <tr>\n",
              "      <th>5</th>\n",
              "      <td>H00277</td>\n",
              "      <td>ENG</td>\n",
              "      <td>40.0</td>\n",
              "      <td>68.0</td>\n",
              "      <td>76.4</td>\n",
              "      <td>68.0</td>\n",
              "    </tr>\n",
              "    <tr>\n",
              "      <th>6</th>\n",
              "      <td>H00277</td>\n",
              "      <td>HLT</td>\n",
              "      <td>71.0</td>\n",
              "      <td>0.0</td>\n",
              "      <td>64.6</td>\n",
              "      <td>70.0</td>\n",
              "    </tr>\n",
              "    <tr>\n",
              "      <th>7</th>\n",
              "      <td>H00293</td>\n",
              "      <td>BUS</td>\n",
              "      <td>50.0</td>\n",
              "      <td>74.0</td>\n",
              "      <td>60.6</td>\n",
              "      <td>78.0</td>\n",
              "    </tr>\n",
              "    <tr>\n",
              "      <th>8</th>\n",
              "      <td>H00247</td>\n",
              "      <td>CIS</td>\n",
              "      <td>61.0</td>\n",
              "      <td>70.0</td>\n",
              "      <td>66.4</td>\n",
              "      <td>82.0</td>\n",
              "    </tr>\n",
              "    <tr>\n",
              "      <th>9</th>\n",
              "      <td>H00149</td>\n",
              "      <td>APP</td>\n",
              "      <td>97.0</td>\n",
              "      <td>98.0</td>\n",
              "      <td>85.2</td>\n",
              "      <td>87.0</td>\n",
              "    </tr>\n",
              "  </tbody>\n",
              "</table>\n",
              "</div>"
            ],
            "text/plain": [
              "      ID  Division  Quiz  Practical  Project  Final\n",
              "0  H00247      EDU  84.0       67.0     69.6   67.0\n",
              "1  H00258      HLT  74.0       68.0     67.0   73.0\n",
              "2  H00269      ENG  88.0       86.0     75.6   74.0\n",
              "3  H00224      EDU   0.0       71.0     65.8   71.0\n",
              "4  H00269      EDU  22.0       65.0     66.8   78.0\n",
              "5  H00277      ENG  40.0       68.0     76.4   68.0\n",
              "6  H00277      HLT  71.0        0.0     64.6   70.0\n",
              "7  H00293      BUS  50.0       74.0     60.6   78.0\n",
              "8  H00247      CIS  61.0       70.0     66.4   82.0\n",
              "9  H00149      APP  97.0       98.0     85.2   87.0"
            ]
          },
          "metadata": {
            "tags": []
          },
          "execution_count": 11
        }
      ]
    },
    {
      "cell_type": "code",
      "metadata": {
        "id": "jYIkXKKaXrjP",
        "outputId": "31547a23-f8c5-4a60-96b7-8b76bac6a836",
        "colab": {
          "base_uri": "https://localhost:8080/",
          "height": 110
        }
      },
      "source": [
        "#show only the first two rows\n",
        "grades_cleaned.head(2)"
      ],
      "execution_count": 12,
      "outputs": [
        {
          "output_type": "execute_result",
          "data": {
            "text/html": [
              "<div>\n",
              "<style scoped>\n",
              "    .dataframe tbody tr th:only-of-type {\n",
              "        vertical-align: middle;\n",
              "    }\n",
              "\n",
              "    .dataframe tbody tr th {\n",
              "        vertical-align: top;\n",
              "    }\n",
              "\n",
              "    .dataframe thead th {\n",
              "        text-align: right;\n",
              "    }\n",
              "</style>\n",
              "<table border=\"1\" class=\"dataframe\">\n",
              "  <thead>\n",
              "    <tr style=\"text-align: right;\">\n",
              "      <th></th>\n",
              "      <th>ID</th>\n",
              "      <th>Division</th>\n",
              "      <th>Quiz</th>\n",
              "      <th>Practical</th>\n",
              "      <th>Project</th>\n",
              "      <th>Final</th>\n",
              "    </tr>\n",
              "  </thead>\n",
              "  <tbody>\n",
              "    <tr>\n",
              "      <th>0</th>\n",
              "      <td>H00247</td>\n",
              "      <td>EDU</td>\n",
              "      <td>84.0</td>\n",
              "      <td>67.0</td>\n",
              "      <td>69.6</td>\n",
              "      <td>67.0</td>\n",
              "    </tr>\n",
              "    <tr>\n",
              "      <th>1</th>\n",
              "      <td>H00258</td>\n",
              "      <td>HLT</td>\n",
              "      <td>74.0</td>\n",
              "      <td>68.0</td>\n",
              "      <td>67.0</td>\n",
              "      <td>73.0</td>\n",
              "    </tr>\n",
              "  </tbody>\n",
              "</table>\n",
              "</div>"
            ],
            "text/plain": [
              "      ID  Division  Quiz  Practical  Project  Final\n",
              "0  H00247      EDU  84.0       67.0     69.6   67.0\n",
              "1  H00258      HLT  74.0       68.0     67.0   73.0"
            ]
          },
          "metadata": {
            "tags": []
          },
          "execution_count": 12
        }
      ]
    },
    {
      "cell_type": "code",
      "metadata": {
        "id": "jb58nrJSX4KK",
        "outputId": "682451b7-4608-4ba9-9d33-bd5ad0c14062",
        "colab": {
          "base_uri": "https://localhost:8080/",
          "height": 202
        }
      },
      "source": [
        "grades_cleaned.tail()"
      ],
      "execution_count": 13,
      "outputs": [
        {
          "output_type": "execute_result",
          "data": {
            "text/html": [
              "<div>\n",
              "<style scoped>\n",
              "    .dataframe tbody tr th:only-of-type {\n",
              "        vertical-align: middle;\n",
              "    }\n",
              "\n",
              "    .dataframe tbody tr th {\n",
              "        vertical-align: top;\n",
              "    }\n",
              "\n",
              "    .dataframe thead th {\n",
              "        text-align: right;\n",
              "    }\n",
              "</style>\n",
              "<table border=\"1\" class=\"dataframe\">\n",
              "  <thead>\n",
              "    <tr style=\"text-align: right;\">\n",
              "      <th></th>\n",
              "      <th>ID</th>\n",
              "      <th>Division</th>\n",
              "      <th>Quiz</th>\n",
              "      <th>Practical</th>\n",
              "      <th>Project</th>\n",
              "      <th>Final</th>\n",
              "    </tr>\n",
              "  </thead>\n",
              "  <tbody>\n",
              "    <tr>\n",
              "      <th>19</th>\n",
              "      <td>H00307</td>\n",
              "      <td>ENG</td>\n",
              "      <td>60.0</td>\n",
              "      <td>60.0</td>\n",
              "      <td>68.0</td>\n",
              "      <td>70.0</td>\n",
              "    </tr>\n",
              "    <tr>\n",
              "      <th>20</th>\n",
              "      <td>H00247</td>\n",
              "      <td>APP</td>\n",
              "      <td>60.0</td>\n",
              "      <td>65.0</td>\n",
              "      <td>62.8</td>\n",
              "      <td>69.0</td>\n",
              "    </tr>\n",
              "    <tr>\n",
              "      <th>21</th>\n",
              "      <td>H00269</td>\n",
              "      <td>HLT</td>\n",
              "      <td>75.0</td>\n",
              "      <td>63.0</td>\n",
              "      <td>71.0</td>\n",
              "      <td>72.0</td>\n",
              "    </tr>\n",
              "    <tr>\n",
              "      <th>22</th>\n",
              "      <td>H00293</td>\n",
              "      <td>CIS</td>\n",
              "      <td>76.0</td>\n",
              "      <td>88.0</td>\n",
              "      <td>81.4</td>\n",
              "      <td>75.0</td>\n",
              "    </tr>\n",
              "    <tr>\n",
              "      <th>23</th>\n",
              "      <td>H00293</td>\n",
              "      <td>ENG</td>\n",
              "      <td>61.0</td>\n",
              "      <td>83.0</td>\n",
              "      <td>71.0</td>\n",
              "      <td>73.0</td>\n",
              "    </tr>\n",
              "  </tbody>\n",
              "</table>\n",
              "</div>"
            ],
            "text/plain": [
              "       ID  Division  Quiz  Practical  Project  Final\n",
              "19  H00307      ENG  60.0       60.0     68.0   70.0\n",
              "20  H00247      APP  60.0       65.0     62.8   69.0\n",
              "21  H00269      HLT  75.0       63.0     71.0   72.0\n",
              "22  H00293      CIS  76.0       88.0     81.4   75.0\n",
              "23  H00293      ENG  61.0       83.0     71.0   73.0"
            ]
          },
          "metadata": {
            "tags": []
          },
          "execution_count": 13
        }
      ]
    },
    {
      "cell_type": "code",
      "metadata": {
        "id": "6-oz-XBdYDE6",
        "outputId": "e9229888-bb15-4a09-eac1-ba06c0958df7",
        "colab": {
          "base_uri": "https://localhost:8080/",
          "height": 141
        }
      },
      "source": [
        "#show the last three rows\n",
        "grades_cleaned.tail(3)"
      ],
      "execution_count": 14,
      "outputs": [
        {
          "output_type": "execute_result",
          "data": {
            "text/html": [
              "<div>\n",
              "<style scoped>\n",
              "    .dataframe tbody tr th:only-of-type {\n",
              "        vertical-align: middle;\n",
              "    }\n",
              "\n",
              "    .dataframe tbody tr th {\n",
              "        vertical-align: top;\n",
              "    }\n",
              "\n",
              "    .dataframe thead th {\n",
              "        text-align: right;\n",
              "    }\n",
              "</style>\n",
              "<table border=\"1\" class=\"dataframe\">\n",
              "  <thead>\n",
              "    <tr style=\"text-align: right;\">\n",
              "      <th></th>\n",
              "      <th>ID</th>\n",
              "      <th>Division</th>\n",
              "      <th>Quiz</th>\n",
              "      <th>Practical</th>\n",
              "      <th>Project</th>\n",
              "      <th>Final</th>\n",
              "    </tr>\n",
              "  </thead>\n",
              "  <tbody>\n",
              "    <tr>\n",
              "      <th>21</th>\n",
              "      <td>H00269</td>\n",
              "      <td>HLT</td>\n",
              "      <td>75.0</td>\n",
              "      <td>63.0</td>\n",
              "      <td>71.0</td>\n",
              "      <td>72.0</td>\n",
              "    </tr>\n",
              "    <tr>\n",
              "      <th>22</th>\n",
              "      <td>H00293</td>\n",
              "      <td>CIS</td>\n",
              "      <td>76.0</td>\n",
              "      <td>88.0</td>\n",
              "      <td>81.4</td>\n",
              "      <td>75.0</td>\n",
              "    </tr>\n",
              "    <tr>\n",
              "      <th>23</th>\n",
              "      <td>H00293</td>\n",
              "      <td>ENG</td>\n",
              "      <td>61.0</td>\n",
              "      <td>83.0</td>\n",
              "      <td>71.0</td>\n",
              "      <td>73.0</td>\n",
              "    </tr>\n",
              "  </tbody>\n",
              "</table>\n",
              "</div>"
            ],
            "text/plain": [
              "       ID  Division  Quiz  Practical  Project  Final\n",
              "21  H00269      HLT  75.0       63.0     71.0   72.0\n",
              "22  H00293      CIS  76.0       88.0     81.4   75.0\n",
              "23  H00293      ENG  61.0       83.0     71.0   73.0"
            ]
          },
          "metadata": {
            "tags": []
          },
          "execution_count": 14
        }
      ]
    },
    {
      "cell_type": "code",
      "metadata": {
        "id": "UsCrPYbNYpWG",
        "outputId": "d1e8b518-9d14-42d7-c27d-f57decf8f5ac",
        "colab": {
          "base_uri": "https://localhost:8080/",
          "height": 233
        }
      },
      "source": [
        "#show the rows from 5 to 10\n",
        "grades_cleaned[5:11]"
      ],
      "execution_count": 15,
      "outputs": [
        {
          "output_type": "execute_result",
          "data": {
            "text/html": [
              "<div>\n",
              "<style scoped>\n",
              "    .dataframe tbody tr th:only-of-type {\n",
              "        vertical-align: middle;\n",
              "    }\n",
              "\n",
              "    .dataframe tbody tr th {\n",
              "        vertical-align: top;\n",
              "    }\n",
              "\n",
              "    .dataframe thead th {\n",
              "        text-align: right;\n",
              "    }\n",
              "</style>\n",
              "<table border=\"1\" class=\"dataframe\">\n",
              "  <thead>\n",
              "    <tr style=\"text-align: right;\">\n",
              "      <th></th>\n",
              "      <th>ID</th>\n",
              "      <th>Division</th>\n",
              "      <th>Quiz</th>\n",
              "      <th>Practical</th>\n",
              "      <th>Project</th>\n",
              "      <th>Final</th>\n",
              "    </tr>\n",
              "  </thead>\n",
              "  <tbody>\n",
              "    <tr>\n",
              "      <th>5</th>\n",
              "      <td>H00277</td>\n",
              "      <td>ENG</td>\n",
              "      <td>40.0</td>\n",
              "      <td>68.0</td>\n",
              "      <td>76.4</td>\n",
              "      <td>68.0</td>\n",
              "    </tr>\n",
              "    <tr>\n",
              "      <th>6</th>\n",
              "      <td>H00277</td>\n",
              "      <td>HLT</td>\n",
              "      <td>71.0</td>\n",
              "      <td>0.0</td>\n",
              "      <td>64.6</td>\n",
              "      <td>70.0</td>\n",
              "    </tr>\n",
              "    <tr>\n",
              "      <th>7</th>\n",
              "      <td>H00293</td>\n",
              "      <td>BUS</td>\n",
              "      <td>50.0</td>\n",
              "      <td>74.0</td>\n",
              "      <td>60.6</td>\n",
              "      <td>78.0</td>\n",
              "    </tr>\n",
              "    <tr>\n",
              "      <th>8</th>\n",
              "      <td>H00247</td>\n",
              "      <td>CIS</td>\n",
              "      <td>61.0</td>\n",
              "      <td>70.0</td>\n",
              "      <td>66.4</td>\n",
              "      <td>82.0</td>\n",
              "    </tr>\n",
              "    <tr>\n",
              "      <th>9</th>\n",
              "      <td>H00149</td>\n",
              "      <td>APP</td>\n",
              "      <td>97.0</td>\n",
              "      <td>98.0</td>\n",
              "      <td>85.2</td>\n",
              "      <td>87.0</td>\n",
              "    </tr>\n",
              "    <tr>\n",
              "      <th>10</th>\n",
              "      <td>H00295</td>\n",
              "      <td>EDU</td>\n",
              "      <td>70.0</td>\n",
              "      <td>76.0</td>\n",
              "      <td>81.0</td>\n",
              "      <td>84.0</td>\n",
              "    </tr>\n",
              "  </tbody>\n",
              "</table>\n",
              "</div>"
            ],
            "text/plain": [
              "       ID  Division  Quiz  Practical  Project  Final\n",
              "5   H00277      ENG  40.0       68.0     76.4   68.0\n",
              "6   H00277      HLT  71.0        0.0     64.6   70.0\n",
              "7   H00293      BUS  50.0       74.0     60.6   78.0\n",
              "8   H00247      CIS  61.0       70.0     66.4   82.0\n",
              "9   H00149      APP  97.0       98.0     85.2   87.0\n",
              "10  H00295      EDU  70.0       76.0     81.0   84.0"
            ]
          },
          "metadata": {
            "tags": []
          },
          "execution_count": 15
        }
      ]
    },
    {
      "cell_type": "code",
      "metadata": {
        "id": "2G4h_vVKZAXv",
        "outputId": "4b4ba697-a125-4e70-a3f7-e8b979333c73",
        "colab": {
          "base_uri": "https://localhost:8080/",
          "height": 355
        }
      },
      "source": [
        "#show the rows from 11 to 20\n",
        "grades_cleaned[11:21]"
      ],
      "execution_count": 16,
      "outputs": [
        {
          "output_type": "execute_result",
          "data": {
            "text/html": [
              "<div>\n",
              "<style scoped>\n",
              "    .dataframe tbody tr th:only-of-type {\n",
              "        vertical-align: middle;\n",
              "    }\n",
              "\n",
              "    .dataframe tbody tr th {\n",
              "        vertical-align: top;\n",
              "    }\n",
              "\n",
              "    .dataframe thead th {\n",
              "        text-align: right;\n",
              "    }\n",
              "</style>\n",
              "<table border=\"1\" class=\"dataframe\">\n",
              "  <thead>\n",
              "    <tr style=\"text-align: right;\">\n",
              "      <th></th>\n",
              "      <th>ID</th>\n",
              "      <th>Division</th>\n",
              "      <th>Quiz</th>\n",
              "      <th>Practical</th>\n",
              "      <th>Project</th>\n",
              "      <th>Final</th>\n",
              "    </tr>\n",
              "  </thead>\n",
              "  <tbody>\n",
              "    <tr>\n",
              "      <th>11</th>\n",
              "      <td>H00284</td>\n",
              "      <td>CIS</td>\n",
              "      <td>48.0</td>\n",
              "      <td>64.0</td>\n",
              "      <td>81.4</td>\n",
              "      <td>68.0</td>\n",
              "    </tr>\n",
              "    <tr>\n",
              "      <th>12</th>\n",
              "      <td>H00307</td>\n",
              "      <td>ENG</td>\n",
              "      <td>67.0</td>\n",
              "      <td>77.0</td>\n",
              "      <td>73.0</td>\n",
              "      <td>83.0</td>\n",
              "    </tr>\n",
              "    <tr>\n",
              "      <th>13</th>\n",
              "      <td>H00293</td>\n",
              "      <td>APP</td>\n",
              "      <td>38.0</td>\n",
              "      <td>0.0</td>\n",
              "      <td>64.6</td>\n",
              "      <td>77.0</td>\n",
              "    </tr>\n",
              "    <tr>\n",
              "      <th>14</th>\n",
              "      <td>H00293</td>\n",
              "      <td>BUS</td>\n",
              "      <td>80.0</td>\n",
              "      <td>76.0</td>\n",
              "      <td>68.4</td>\n",
              "      <td>83.0</td>\n",
              "    </tr>\n",
              "    <tr>\n",
              "      <th>15</th>\n",
              "      <td>H00293</td>\n",
              "      <td>APP</td>\n",
              "      <td>83.0</td>\n",
              "      <td>62.0</td>\n",
              "      <td>77.0</td>\n",
              "      <td>85.0</td>\n",
              "    </tr>\n",
              "    <tr>\n",
              "      <th>16</th>\n",
              "      <td>H00248</td>\n",
              "      <td>BUS</td>\n",
              "      <td>73.0</td>\n",
              "      <td>86.0</td>\n",
              "      <td>76.4</td>\n",
              "      <td>77.0</td>\n",
              "    </tr>\n",
              "    <tr>\n",
              "      <th>18</th>\n",
              "      <td>H00269</td>\n",
              "      <td>BUS</td>\n",
              "      <td>61.0</td>\n",
              "      <td>61.0</td>\n",
              "      <td>61.0</td>\n",
              "      <td>77.0</td>\n",
              "    </tr>\n",
              "    <tr>\n",
              "      <th>19</th>\n",
              "      <td>H00307</td>\n",
              "      <td>ENG</td>\n",
              "      <td>60.0</td>\n",
              "      <td>60.0</td>\n",
              "      <td>68.0</td>\n",
              "      <td>70.0</td>\n",
              "    </tr>\n",
              "    <tr>\n",
              "      <th>20</th>\n",
              "      <td>H00247</td>\n",
              "      <td>APP</td>\n",
              "      <td>60.0</td>\n",
              "      <td>65.0</td>\n",
              "      <td>62.8</td>\n",
              "      <td>69.0</td>\n",
              "    </tr>\n",
              "    <tr>\n",
              "      <th>21</th>\n",
              "      <td>H00269</td>\n",
              "      <td>HLT</td>\n",
              "      <td>75.0</td>\n",
              "      <td>63.0</td>\n",
              "      <td>71.0</td>\n",
              "      <td>72.0</td>\n",
              "    </tr>\n",
              "  </tbody>\n",
              "</table>\n",
              "</div>"
            ],
            "text/plain": [
              "       ID  Division  Quiz  Practical  Project  Final\n",
              "11  H00284      CIS  48.0       64.0     81.4   68.0\n",
              "12  H00307      ENG  67.0       77.0     73.0   83.0\n",
              "13  H00293      APP  38.0        0.0     64.6   77.0\n",
              "14  H00293      BUS  80.0       76.0     68.4   83.0\n",
              "15  H00293      APP  83.0       62.0     77.0   85.0\n",
              "16  H00248      BUS  73.0       86.0     76.4   77.0\n",
              "18  H00269      BUS  61.0       61.0     61.0   77.0\n",
              "19  H00307      ENG  60.0       60.0     68.0   70.0\n",
              "20  H00247      APP  60.0       65.0     62.8   69.0\n",
              "21  H00269      HLT  75.0       63.0     71.0   72.0"
            ]
          },
          "metadata": {
            "tags": []
          },
          "execution_count": 16
        }
      ]
    },
    {
      "cell_type": "code",
      "metadata": {
        "id": "B_HjQ_cFZrJD",
        "outputId": "e9d2a91f-3fe9-4852-f8e7-9ac2426dabe6",
        "colab": {
          "base_uri": "https://localhost:8080/",
          "height": 433
        }
      },
      "source": [
        "#show only the final column data\n",
        "grades_cleaned[\"Final\"]"
      ],
      "execution_count": 17,
      "outputs": [
        {
          "output_type": "execute_result",
          "data": {
            "text/plain": [
              "0     67.0\n",
              "1     73.0\n",
              "2     74.0\n",
              "3     71.0\n",
              "4     78.0\n",
              "5     68.0\n",
              "6     70.0\n",
              "7     78.0\n",
              "8     82.0\n",
              "9     87.0\n",
              "10    84.0\n",
              "11    68.0\n",
              "12    83.0\n",
              "13    77.0\n",
              "14    83.0\n",
              "15    85.0\n",
              "16    77.0\n",
              "18    77.0\n",
              "19    70.0\n",
              "20    69.0\n",
              "21    72.0\n",
              "22    75.0\n",
              "23    73.0\n",
              "Name: Final, dtype: float64"
            ]
          },
          "metadata": {
            "tags": []
          },
          "execution_count": 17
        }
      ]
    },
    {
      "cell_type": "code",
      "metadata": {
        "id": "y3JC3nS8Z-qk",
        "outputId": "07aba00a-5faf-49cf-cf63-5c70b851e3e0",
        "colab": {
          "base_uri": "https://localhost:8080/",
          "height": 754
        }
      },
      "source": [
        "#show only ID and final marks\n",
        "grades_cleaned[[\"ID \", \"Final\"]]"
      ],
      "execution_count": 18,
      "outputs": [
        {
          "output_type": "execute_result",
          "data": {
            "text/html": [
              "<div>\n",
              "<style scoped>\n",
              "    .dataframe tbody tr th:only-of-type {\n",
              "        vertical-align: middle;\n",
              "    }\n",
              "\n",
              "    .dataframe tbody tr th {\n",
              "        vertical-align: top;\n",
              "    }\n",
              "\n",
              "    .dataframe thead th {\n",
              "        text-align: right;\n",
              "    }\n",
              "</style>\n",
              "<table border=\"1\" class=\"dataframe\">\n",
              "  <thead>\n",
              "    <tr style=\"text-align: right;\">\n",
              "      <th></th>\n",
              "      <th>ID</th>\n",
              "      <th>Final</th>\n",
              "    </tr>\n",
              "  </thead>\n",
              "  <tbody>\n",
              "    <tr>\n",
              "      <th>0</th>\n",
              "      <td>H00247</td>\n",
              "      <td>67.0</td>\n",
              "    </tr>\n",
              "    <tr>\n",
              "      <th>1</th>\n",
              "      <td>H00258</td>\n",
              "      <td>73.0</td>\n",
              "    </tr>\n",
              "    <tr>\n",
              "      <th>2</th>\n",
              "      <td>H00269</td>\n",
              "      <td>74.0</td>\n",
              "    </tr>\n",
              "    <tr>\n",
              "      <th>3</th>\n",
              "      <td>H00224</td>\n",
              "      <td>71.0</td>\n",
              "    </tr>\n",
              "    <tr>\n",
              "      <th>4</th>\n",
              "      <td>H00269</td>\n",
              "      <td>78.0</td>\n",
              "    </tr>\n",
              "    <tr>\n",
              "      <th>5</th>\n",
              "      <td>H00277</td>\n",
              "      <td>68.0</td>\n",
              "    </tr>\n",
              "    <tr>\n",
              "      <th>6</th>\n",
              "      <td>H00277</td>\n",
              "      <td>70.0</td>\n",
              "    </tr>\n",
              "    <tr>\n",
              "      <th>7</th>\n",
              "      <td>H00293</td>\n",
              "      <td>78.0</td>\n",
              "    </tr>\n",
              "    <tr>\n",
              "      <th>8</th>\n",
              "      <td>H00247</td>\n",
              "      <td>82.0</td>\n",
              "    </tr>\n",
              "    <tr>\n",
              "      <th>9</th>\n",
              "      <td>H00149</td>\n",
              "      <td>87.0</td>\n",
              "    </tr>\n",
              "    <tr>\n",
              "      <th>10</th>\n",
              "      <td>H00295</td>\n",
              "      <td>84.0</td>\n",
              "    </tr>\n",
              "    <tr>\n",
              "      <th>11</th>\n",
              "      <td>H00284</td>\n",
              "      <td>68.0</td>\n",
              "    </tr>\n",
              "    <tr>\n",
              "      <th>12</th>\n",
              "      <td>H00307</td>\n",
              "      <td>83.0</td>\n",
              "    </tr>\n",
              "    <tr>\n",
              "      <th>13</th>\n",
              "      <td>H00293</td>\n",
              "      <td>77.0</td>\n",
              "    </tr>\n",
              "    <tr>\n",
              "      <th>14</th>\n",
              "      <td>H00293</td>\n",
              "      <td>83.0</td>\n",
              "    </tr>\n",
              "    <tr>\n",
              "      <th>15</th>\n",
              "      <td>H00293</td>\n",
              "      <td>85.0</td>\n",
              "    </tr>\n",
              "    <tr>\n",
              "      <th>16</th>\n",
              "      <td>H00248</td>\n",
              "      <td>77.0</td>\n",
              "    </tr>\n",
              "    <tr>\n",
              "      <th>18</th>\n",
              "      <td>H00269</td>\n",
              "      <td>77.0</td>\n",
              "    </tr>\n",
              "    <tr>\n",
              "      <th>19</th>\n",
              "      <td>H00307</td>\n",
              "      <td>70.0</td>\n",
              "    </tr>\n",
              "    <tr>\n",
              "      <th>20</th>\n",
              "      <td>H00247</td>\n",
              "      <td>69.0</td>\n",
              "    </tr>\n",
              "    <tr>\n",
              "      <th>21</th>\n",
              "      <td>H00269</td>\n",
              "      <td>72.0</td>\n",
              "    </tr>\n",
              "    <tr>\n",
              "      <th>22</th>\n",
              "      <td>H00293</td>\n",
              "      <td>75.0</td>\n",
              "    </tr>\n",
              "    <tr>\n",
              "      <th>23</th>\n",
              "      <td>H00293</td>\n",
              "      <td>73.0</td>\n",
              "    </tr>\n",
              "  </tbody>\n",
              "</table>\n",
              "</div>"
            ],
            "text/plain": [
              "       ID   Final\n",
              "0   H00247   67.0\n",
              "1   H00258   73.0\n",
              "2   H00269   74.0\n",
              "3   H00224   71.0\n",
              "4   H00269   78.0\n",
              "5   H00277   68.0\n",
              "6   H00277   70.0\n",
              "7   H00293   78.0\n",
              "8   H00247   82.0\n",
              "9   H00149   87.0\n",
              "10  H00295   84.0\n",
              "11  H00284   68.0\n",
              "12  H00307   83.0\n",
              "13  H00293   77.0\n",
              "14  H00293   83.0\n",
              "15  H00293   85.0\n",
              "16  H00248   77.0\n",
              "18  H00269   77.0\n",
              "19  H00307   70.0\n",
              "20  H00247   69.0\n",
              "21  H00269   72.0\n",
              "22  H00293   75.0\n",
              "23  H00293   73.0"
            ]
          },
          "metadata": {
            "tags": []
          },
          "execution_count": 18
        }
      ]
    },
    {
      "cell_type": "code",
      "metadata": {
        "id": "kSq5xjuiaomz",
        "outputId": "2e6970bf-8dfd-4e38-ea2e-69fc18d22b47",
        "colab": {
          "base_uri": "https://localhost:8080/",
          "height": 141
        }
      },
      "source": [
        "#show only the quiz and practical marks\n",
        "grades_cleaned[[\"Quiz\", \"Practical\"]].head(3)\n"
      ],
      "execution_count": 19,
      "outputs": [
        {
          "output_type": "execute_result",
          "data": {
            "text/html": [
              "<div>\n",
              "<style scoped>\n",
              "    .dataframe tbody tr th:only-of-type {\n",
              "        vertical-align: middle;\n",
              "    }\n",
              "\n",
              "    .dataframe tbody tr th {\n",
              "        vertical-align: top;\n",
              "    }\n",
              "\n",
              "    .dataframe thead th {\n",
              "        text-align: right;\n",
              "    }\n",
              "</style>\n",
              "<table border=\"1\" class=\"dataframe\">\n",
              "  <thead>\n",
              "    <tr style=\"text-align: right;\">\n",
              "      <th></th>\n",
              "      <th>Quiz</th>\n",
              "      <th>Practical</th>\n",
              "    </tr>\n",
              "  </thead>\n",
              "  <tbody>\n",
              "    <tr>\n",
              "      <th>0</th>\n",
              "      <td>84.0</td>\n",
              "      <td>67.0</td>\n",
              "    </tr>\n",
              "    <tr>\n",
              "      <th>1</th>\n",
              "      <td>74.0</td>\n",
              "      <td>68.0</td>\n",
              "    </tr>\n",
              "    <tr>\n",
              "      <th>2</th>\n",
              "      <td>88.0</td>\n",
              "      <td>86.0</td>\n",
              "    </tr>\n",
              "  </tbody>\n",
              "</table>\n",
              "</div>"
            ],
            "text/plain": [
              "   Quiz  Practical\n",
              "0  84.0       67.0\n",
              "1  74.0       68.0\n",
              "2  88.0       86.0"
            ]
          },
          "metadata": {
            "tags": []
          },
          "execution_count": 19
        }
      ]
    },
    {
      "cell_type": "code",
      "metadata": {
        "id": "A0t5EwVzfwGh",
        "outputId": "4d75f3b1-1db3-4b68-cea2-937d61f01f30",
        "colab": {
          "base_uri": "https://localhost:8080/",
          "height": 233
        }
      },
      "source": [
        "#loc function \n",
        "grades_cleaned.loc[5:10,\"Quiz\":\"Final\"]"
      ],
      "execution_count": 20,
      "outputs": [
        {
          "output_type": "execute_result",
          "data": {
            "text/html": [
              "<div>\n",
              "<style scoped>\n",
              "    .dataframe tbody tr th:only-of-type {\n",
              "        vertical-align: middle;\n",
              "    }\n",
              "\n",
              "    .dataframe tbody tr th {\n",
              "        vertical-align: top;\n",
              "    }\n",
              "\n",
              "    .dataframe thead th {\n",
              "        text-align: right;\n",
              "    }\n",
              "</style>\n",
              "<table border=\"1\" class=\"dataframe\">\n",
              "  <thead>\n",
              "    <tr style=\"text-align: right;\">\n",
              "      <th></th>\n",
              "      <th>Quiz</th>\n",
              "      <th>Practical</th>\n",
              "      <th>Project</th>\n",
              "      <th>Final</th>\n",
              "    </tr>\n",
              "  </thead>\n",
              "  <tbody>\n",
              "    <tr>\n",
              "      <th>5</th>\n",
              "      <td>40.0</td>\n",
              "      <td>68.0</td>\n",
              "      <td>76.4</td>\n",
              "      <td>68.0</td>\n",
              "    </tr>\n",
              "    <tr>\n",
              "      <th>6</th>\n",
              "      <td>71.0</td>\n",
              "      <td>0.0</td>\n",
              "      <td>64.6</td>\n",
              "      <td>70.0</td>\n",
              "    </tr>\n",
              "    <tr>\n",
              "      <th>7</th>\n",
              "      <td>50.0</td>\n",
              "      <td>74.0</td>\n",
              "      <td>60.6</td>\n",
              "      <td>78.0</td>\n",
              "    </tr>\n",
              "    <tr>\n",
              "      <th>8</th>\n",
              "      <td>61.0</td>\n",
              "      <td>70.0</td>\n",
              "      <td>66.4</td>\n",
              "      <td>82.0</td>\n",
              "    </tr>\n",
              "    <tr>\n",
              "      <th>9</th>\n",
              "      <td>97.0</td>\n",
              "      <td>98.0</td>\n",
              "      <td>85.2</td>\n",
              "      <td>87.0</td>\n",
              "    </tr>\n",
              "    <tr>\n",
              "      <th>10</th>\n",
              "      <td>70.0</td>\n",
              "      <td>76.0</td>\n",
              "      <td>81.0</td>\n",
              "      <td>84.0</td>\n",
              "    </tr>\n",
              "  </tbody>\n",
              "</table>\n",
              "</div>"
            ],
            "text/plain": [
              "    Quiz  Practical  Project  Final\n",
              "5   40.0       68.0     76.4   68.0\n",
              "6   71.0        0.0     64.6   70.0\n",
              "7   50.0       74.0     60.6   78.0\n",
              "8   61.0       70.0     66.4   82.0\n",
              "9   97.0       98.0     85.2   87.0\n",
              "10  70.0       76.0     81.0   84.0"
            ]
          },
          "metadata": {
            "tags": []
          },
          "execution_count": 20
        }
      ]
    },
    {
      "cell_type": "code",
      "metadata": {
        "id": "il76BtISiSG8"
      },
      "source": [
        ""
      ],
      "execution_count": null,
      "outputs": []
    },
    {
      "cell_type": "code",
      "metadata": {
        "id": "Ou2_OSAXhFHZ",
        "outputId": "bae6e18c-6ec4-4f9c-e4cd-ab1923a57739",
        "colab": {
          "base_uri": "https://localhost:8080/",
          "height": 79
        }
      },
      "source": [
        "grades_cleaned.head(1)"
      ],
      "execution_count": 21,
      "outputs": [
        {
          "output_type": "execute_result",
          "data": {
            "text/html": [
              "<div>\n",
              "<style scoped>\n",
              "    .dataframe tbody tr th:only-of-type {\n",
              "        vertical-align: middle;\n",
              "    }\n",
              "\n",
              "    .dataframe tbody tr th {\n",
              "        vertical-align: top;\n",
              "    }\n",
              "\n",
              "    .dataframe thead th {\n",
              "        text-align: right;\n",
              "    }\n",
              "</style>\n",
              "<table border=\"1\" class=\"dataframe\">\n",
              "  <thead>\n",
              "    <tr style=\"text-align: right;\">\n",
              "      <th></th>\n",
              "      <th>ID</th>\n",
              "      <th>Division</th>\n",
              "      <th>Quiz</th>\n",
              "      <th>Practical</th>\n",
              "      <th>Project</th>\n",
              "      <th>Final</th>\n",
              "    </tr>\n",
              "  </thead>\n",
              "  <tbody>\n",
              "    <tr>\n",
              "      <th>0</th>\n",
              "      <td>H00247</td>\n",
              "      <td>EDU</td>\n",
              "      <td>84.0</td>\n",
              "      <td>67.0</td>\n",
              "      <td>69.6</td>\n",
              "      <td>67.0</td>\n",
              "    </tr>\n",
              "  </tbody>\n",
              "</table>\n",
              "</div>"
            ],
            "text/plain": [
              "      ID  Division  Quiz  Practical  Project  Final\n",
              "0  H00247      EDU  84.0       67.0     69.6   67.0"
            ]
          },
          "metadata": {
            "tags": []
          },
          "execution_count": 21
        }
      ]
    },
    {
      "cell_type": "code",
      "metadata": {
        "id": "YktjI5F5hSWe",
        "outputId": "fbf4818f-9dcf-4890-e61b-00328d1465b9",
        "colab": {
          "base_uri": "https://localhost:8080/",
          "height": 233
        }
      },
      "source": [
        "#iloc example\n",
        "grades_cleaned.iloc[5:11, 0:3]"
      ],
      "execution_count": 23,
      "outputs": [
        {
          "output_type": "execute_result",
          "data": {
            "text/html": [
              "<div>\n",
              "<style scoped>\n",
              "    .dataframe tbody tr th:only-of-type {\n",
              "        vertical-align: middle;\n",
              "    }\n",
              "\n",
              "    .dataframe tbody tr th {\n",
              "        vertical-align: top;\n",
              "    }\n",
              "\n",
              "    .dataframe thead th {\n",
              "        text-align: right;\n",
              "    }\n",
              "</style>\n",
              "<table border=\"1\" class=\"dataframe\">\n",
              "  <thead>\n",
              "    <tr style=\"text-align: right;\">\n",
              "      <th></th>\n",
              "      <th>ID</th>\n",
              "      <th>Division</th>\n",
              "      <th>Quiz</th>\n",
              "    </tr>\n",
              "  </thead>\n",
              "  <tbody>\n",
              "    <tr>\n",
              "      <th>5</th>\n",
              "      <td>H00277</td>\n",
              "      <td>ENG</td>\n",
              "      <td>40.0</td>\n",
              "    </tr>\n",
              "    <tr>\n",
              "      <th>6</th>\n",
              "      <td>H00277</td>\n",
              "      <td>HLT</td>\n",
              "      <td>71.0</td>\n",
              "    </tr>\n",
              "    <tr>\n",
              "      <th>7</th>\n",
              "      <td>H00293</td>\n",
              "      <td>BUS</td>\n",
              "      <td>50.0</td>\n",
              "    </tr>\n",
              "    <tr>\n",
              "      <th>8</th>\n",
              "      <td>H00247</td>\n",
              "      <td>CIS</td>\n",
              "      <td>61.0</td>\n",
              "    </tr>\n",
              "    <tr>\n",
              "      <th>9</th>\n",
              "      <td>H00149</td>\n",
              "      <td>APP</td>\n",
              "      <td>97.0</td>\n",
              "    </tr>\n",
              "    <tr>\n",
              "      <th>10</th>\n",
              "      <td>H00295</td>\n",
              "      <td>EDU</td>\n",
              "      <td>70.0</td>\n",
              "    </tr>\n",
              "  </tbody>\n",
              "</table>\n",
              "</div>"
            ],
            "text/plain": [
              "       ID  Division  Quiz\n",
              "5   H00277      ENG  40.0\n",
              "6   H00277      HLT  71.0\n",
              "7   H00293      BUS  50.0\n",
              "8   H00247      CIS  61.0\n",
              "9   H00149      APP  97.0\n",
              "10  H00295      EDU  70.0"
            ]
          },
          "metadata": {
            "tags": []
          },
          "execution_count": 23
        }
      ]
    },
    {
      "cell_type": "code",
      "metadata": {
        "id": "HDNmR3lTiUBY"
      },
      "source": [
        "#set index column to ID\n",
        "grades_cleaned.set_index(\"ID \", inplace=True)"
      ],
      "execution_count": 24,
      "outputs": []
    },
    {
      "cell_type": "code",
      "metadata": {
        "id": "MvaoAvwhinOA",
        "outputId": "fc6a22ce-8076-4e7c-c006-5d2ff976bce6",
        "colab": {
          "base_uri": "https://localhost:8080/",
          "height": 171
        }
      },
      "source": [
        "grades_cleaned.head(3)"
      ],
      "execution_count": 25,
      "outputs": [
        {
          "output_type": "execute_result",
          "data": {
            "text/html": [
              "<div>\n",
              "<style scoped>\n",
              "    .dataframe tbody tr th:only-of-type {\n",
              "        vertical-align: middle;\n",
              "    }\n",
              "\n",
              "    .dataframe tbody tr th {\n",
              "        vertical-align: top;\n",
              "    }\n",
              "\n",
              "    .dataframe thead th {\n",
              "        text-align: right;\n",
              "    }\n",
              "</style>\n",
              "<table border=\"1\" class=\"dataframe\">\n",
              "  <thead>\n",
              "    <tr style=\"text-align: right;\">\n",
              "      <th></th>\n",
              "      <th>Division</th>\n",
              "      <th>Quiz</th>\n",
              "      <th>Practical</th>\n",
              "      <th>Project</th>\n",
              "      <th>Final</th>\n",
              "    </tr>\n",
              "    <tr>\n",
              "      <th>ID</th>\n",
              "      <th></th>\n",
              "      <th></th>\n",
              "      <th></th>\n",
              "      <th></th>\n",
              "      <th></th>\n",
              "    </tr>\n",
              "  </thead>\n",
              "  <tbody>\n",
              "    <tr>\n",
              "      <th>H00247</th>\n",
              "      <td>EDU</td>\n",
              "      <td>84.0</td>\n",
              "      <td>67.0</td>\n",
              "      <td>69.6</td>\n",
              "      <td>67.0</td>\n",
              "    </tr>\n",
              "    <tr>\n",
              "      <th>H00258</th>\n",
              "      <td>HLT</td>\n",
              "      <td>74.0</td>\n",
              "      <td>68.0</td>\n",
              "      <td>67.0</td>\n",
              "      <td>73.0</td>\n",
              "    </tr>\n",
              "    <tr>\n",
              "      <th>H00269</th>\n",
              "      <td>ENG</td>\n",
              "      <td>88.0</td>\n",
              "      <td>86.0</td>\n",
              "      <td>75.6</td>\n",
              "      <td>74.0</td>\n",
              "    </tr>\n",
              "  </tbody>\n",
              "</table>\n",
              "</div>"
            ],
            "text/plain": [
              "       Division  Quiz  Practical  Project  Final\n",
              "ID                                              \n",
              "H00247      EDU  84.0       67.0     69.6   67.0\n",
              "H00258      HLT  74.0       68.0     67.0   73.0\n",
              "H00269      ENG  88.0       86.0     75.6   74.0"
            ]
          },
          "metadata": {
            "tags": []
          },
          "execution_count": 25
        }
      ]
    },
    {
      "cell_type": "code",
      "metadata": {
        "id": "d7YO2Dlki_bB",
        "outputId": "27f37951-f0cf-4550-9944-37550bbd5b33",
        "colab": {
          "base_uri": "https://localhost:8080/",
          "height": 202
        }
      },
      "source": [
        "#reset the index back to row index\n",
        "grades_cleaned.reset_index(inplace = True)\n",
        "grades.head()"
      ],
      "execution_count": 26,
      "outputs": [
        {
          "output_type": "execute_result",
          "data": {
            "text/html": [
              "<div>\n",
              "<style scoped>\n",
              "    .dataframe tbody tr th:only-of-type {\n",
              "        vertical-align: middle;\n",
              "    }\n",
              "\n",
              "    .dataframe tbody tr th {\n",
              "        vertical-align: top;\n",
              "    }\n",
              "\n",
              "    .dataframe thead th {\n",
              "        text-align: right;\n",
              "    }\n",
              "</style>\n",
              "<table border=\"1\" class=\"dataframe\">\n",
              "  <thead>\n",
              "    <tr style=\"text-align: right;\">\n",
              "      <th></th>\n",
              "      <th>ID</th>\n",
              "      <th>Division</th>\n",
              "      <th>Quiz</th>\n",
              "      <th>Practical</th>\n",
              "      <th>Project</th>\n",
              "      <th>Final</th>\n",
              "    </tr>\n",
              "  </thead>\n",
              "  <tbody>\n",
              "    <tr>\n",
              "      <th>0</th>\n",
              "      <td>H00247</td>\n",
              "      <td>EDU</td>\n",
              "      <td>84.0</td>\n",
              "      <td>67.0</td>\n",
              "      <td>69.6</td>\n",
              "      <td>67.0</td>\n",
              "    </tr>\n",
              "    <tr>\n",
              "      <th>1</th>\n",
              "      <td>H00258</td>\n",
              "      <td>HLT</td>\n",
              "      <td>74.0</td>\n",
              "      <td>68.0</td>\n",
              "      <td>67.0</td>\n",
              "      <td>73.0</td>\n",
              "    </tr>\n",
              "    <tr>\n",
              "      <th>2</th>\n",
              "      <td>H00269</td>\n",
              "      <td>ENG</td>\n",
              "      <td>88.0</td>\n",
              "      <td>86.0</td>\n",
              "      <td>75.6</td>\n",
              "      <td>74.0</td>\n",
              "    </tr>\n",
              "    <tr>\n",
              "      <th>3</th>\n",
              "      <td>H00224</td>\n",
              "      <td>EDU</td>\n",
              "      <td>NaN</td>\n",
              "      <td>71.0</td>\n",
              "      <td>65.8</td>\n",
              "      <td>71.0</td>\n",
              "    </tr>\n",
              "    <tr>\n",
              "      <th>4</th>\n",
              "      <td>H00269</td>\n",
              "      <td>EDU</td>\n",
              "      <td>22.0</td>\n",
              "      <td>65.0</td>\n",
              "      <td>66.8</td>\n",
              "      <td>78.0</td>\n",
              "    </tr>\n",
              "  </tbody>\n",
              "</table>\n",
              "</div>"
            ],
            "text/plain": [
              "      ID  Division  Quiz  Practical  Project  Final\n",
              "0  H00247      EDU  84.0       67.0     69.6   67.0\n",
              "1  H00258      HLT  74.0       68.0     67.0   73.0\n",
              "2  H00269      ENG  88.0       86.0     75.6   74.0\n",
              "3  H00224      EDU   NaN       71.0     65.8   71.0\n",
              "4  H00269      EDU  22.0       65.0     66.8   78.0"
            ]
          },
          "metadata": {
            "tags": []
          },
          "execution_count": 26
        }
      ]
    },
    {
      "cell_type": "code",
      "metadata": {
        "id": "18Q4tab7jRcV",
        "outputId": "ef01cc1a-5efe-4a39-ab52-ec53f3b827ae",
        "colab": {
          "base_uri": "https://localhost:8080/",
          "height": 35
        }
      },
      "source": [
        "#get the average of the Quiz column\n",
        "grades_cleaned[\"Quiz\"].mean()"
      ],
      "execution_count": 27,
      "outputs": [
        {
          "output_type": "execute_result",
          "data": {
            "text/plain": [
              "62.56521739130435"
            ]
          },
          "metadata": {
            "tags": []
          },
          "execution_count": 27
        }
      ]
    },
    {
      "cell_type": "code",
      "metadata": {
        "id": "_i5diuv7kBpm",
        "outputId": "e4ac1d26-9d54-40db-8ee5-2e76f988df70",
        "colab": {
          "base_uri": "https://localhost:8080/",
          "height": 35
        }
      },
      "source": [
        "#find the max marks in the Project\n",
        "grades_cleaned[\"Project\"].max()"
      ],
      "execution_count": 28,
      "outputs": [
        {
          "output_type": "execute_result",
          "data": {
            "text/plain": [
              "85.2"
            ]
          },
          "metadata": {
            "tags": []
          },
          "execution_count": 28
        }
      ]
    },
    {
      "cell_type": "code",
      "metadata": {
        "id": "XTmm4kNFkYMF",
        "outputId": "2051e8b4-0d06-4349-a8a3-0dda8911a984",
        "colab": {
          "base_uri": "https://localhost:8080/",
          "height": 35
        }
      },
      "source": [
        "#find the min marks in the Final\n",
        "grades_cleaned[\"Final\"].min()"
      ],
      "execution_count": 29,
      "outputs": [
        {
          "output_type": "execute_result",
          "data": {
            "text/plain": [
              "67.0"
            ]
          },
          "metadata": {
            "tags": []
          },
          "execution_count": 29
        }
      ]
    },
    {
      "cell_type": "code",
      "metadata": {
        "id": "_1oB_r9eko_t",
        "outputId": "e3b49ade-edfa-470e-915a-9801756e32f2",
        "colab": {
          "base_uri": "https://localhost:8080/",
          "height": 173
        }
      },
      "source": [
        "#describe() example\n",
        "grades_cleaned[\"Quiz\"].describe()"
      ],
      "execution_count": 30,
      "outputs": [
        {
          "output_type": "execute_result",
          "data": {
            "text/plain": [
              "count    23.000000\n",
              "mean     62.565217\n",
              "std      22.154060\n",
              "min       0.000000\n",
              "25%      55.000000\n",
              "50%      67.000000\n",
              "75%      75.500000\n",
              "max      97.000000\n",
              "Name: Quiz, dtype: float64"
            ]
          },
          "metadata": {
            "tags": []
          },
          "execution_count": 30
        }
      ]
    },
    {
      "cell_type": "code",
      "metadata": {
        "id": "iOu-kRqnk0ly",
        "outputId": "6a51fff8-b495-446f-976e-4d24df7ae3c6",
        "colab": {
          "base_uri": "https://localhost:8080/",
          "height": 104
        }
      },
      "source": [
        "grades_cleaned.mean()"
      ],
      "execution_count": 31,
      "outputs": [
        {
          "output_type": "execute_result",
          "data": {
            "text/plain": [
              "Quiz         62.565217\n",
              "Practical    66.434783\n",
              "Project      71.086957\n",
              "Final        75.695652\n",
              "dtype: float64"
            ]
          },
          "metadata": {
            "tags": []
          },
          "execution_count": 31
        }
      ]
    },
    {
      "cell_type": "code",
      "metadata": {
        "id": "cItPhZpTk-N7",
        "outputId": "76b9b400-a62c-4cad-c463-395b63b0a034",
        "colab": {
          "base_uri": "https://localhost:8080/",
          "height": 139
        }
      },
      "source": [
        "grades_cleaned.max()"
      ],
      "execution_count": 32,
      "outputs": [
        {
          "output_type": "execute_result",
          "data": {
            "text/plain": [
              "ID           H00307\n",
              "Division        HLT\n",
              "Quiz             97\n",
              "Practical        98\n",
              "Project        85.2\n",
              "Final            87\n",
              "dtype: object"
            ]
          },
          "metadata": {
            "tags": []
          },
          "execution_count": 32
        }
      ]
    },
    {
      "cell_type": "code",
      "metadata": {
        "id": "tEKqQ-kIlTc0",
        "outputId": "7d0937c2-e864-4d05-9b55-7be9a844950c",
        "colab": {
          "base_uri": "https://localhost:8080/",
          "height": 35
        }
      },
      "source": [
        "#show the unique values in Division column\n",
        "grades_cleaned[\"Division\"].unique()"
      ],
      "execution_count": 33,
      "outputs": [
        {
          "output_type": "execute_result",
          "data": {
            "text/plain": [
              "array(['EDU', 'HLT', 'ENG', 'BUS', 'CIS', 'APP'], dtype=object)"
            ]
          },
          "metadata": {
            "tags": []
          },
          "execution_count": 33
        }
      ]
    },
    {
      "cell_type": "code",
      "metadata": {
        "id": "iTr5Ds2alqzM",
        "outputId": "862ef307-4d84-4390-9aa9-455b4002cefe",
        "colab": {
          "base_uri": "https://localhost:8080/",
          "height": 202
        }
      },
      "source": [
        "#calculated column example\n",
        "#calculate the courework average which is average of Quiz, Practical and Project\n",
        "grades_cleaned[\"CWAverage\"] = (grades_cleaned[\"Quiz\"] + grades_cleaned[\"Practical\"] + grades_cleaned[\"Project\"]) / 3\n",
        "grades_cleaned.head()"
      ],
      "execution_count": 34,
      "outputs": [
        {
          "output_type": "execute_result",
          "data": {
            "text/html": [
              "<div>\n",
              "<style scoped>\n",
              "    .dataframe tbody tr th:only-of-type {\n",
              "        vertical-align: middle;\n",
              "    }\n",
              "\n",
              "    .dataframe tbody tr th {\n",
              "        vertical-align: top;\n",
              "    }\n",
              "\n",
              "    .dataframe thead th {\n",
              "        text-align: right;\n",
              "    }\n",
              "</style>\n",
              "<table border=\"1\" class=\"dataframe\">\n",
              "  <thead>\n",
              "    <tr style=\"text-align: right;\">\n",
              "      <th></th>\n",
              "      <th>ID</th>\n",
              "      <th>Division</th>\n",
              "      <th>Quiz</th>\n",
              "      <th>Practical</th>\n",
              "      <th>Project</th>\n",
              "      <th>Final</th>\n",
              "      <th>CWAverage</th>\n",
              "    </tr>\n",
              "  </thead>\n",
              "  <tbody>\n",
              "    <tr>\n",
              "      <th>0</th>\n",
              "      <td>H00247</td>\n",
              "      <td>EDU</td>\n",
              "      <td>84.0</td>\n",
              "      <td>67.0</td>\n",
              "      <td>69.6</td>\n",
              "      <td>67.0</td>\n",
              "      <td>73.533333</td>\n",
              "    </tr>\n",
              "    <tr>\n",
              "      <th>1</th>\n",
              "      <td>H00258</td>\n",
              "      <td>HLT</td>\n",
              "      <td>74.0</td>\n",
              "      <td>68.0</td>\n",
              "      <td>67.0</td>\n",
              "      <td>73.0</td>\n",
              "      <td>69.666667</td>\n",
              "    </tr>\n",
              "    <tr>\n",
              "      <th>2</th>\n",
              "      <td>H00269</td>\n",
              "      <td>ENG</td>\n",
              "      <td>88.0</td>\n",
              "      <td>86.0</td>\n",
              "      <td>75.6</td>\n",
              "      <td>74.0</td>\n",
              "      <td>83.200000</td>\n",
              "    </tr>\n",
              "    <tr>\n",
              "      <th>3</th>\n",
              "      <td>H00224</td>\n",
              "      <td>EDU</td>\n",
              "      <td>0.0</td>\n",
              "      <td>71.0</td>\n",
              "      <td>65.8</td>\n",
              "      <td>71.0</td>\n",
              "      <td>45.600000</td>\n",
              "    </tr>\n",
              "    <tr>\n",
              "      <th>4</th>\n",
              "      <td>H00269</td>\n",
              "      <td>EDU</td>\n",
              "      <td>22.0</td>\n",
              "      <td>65.0</td>\n",
              "      <td>66.8</td>\n",
              "      <td>78.0</td>\n",
              "      <td>51.266667</td>\n",
              "    </tr>\n",
              "  </tbody>\n",
              "</table>\n",
              "</div>"
            ],
            "text/plain": [
              "      ID  Division  Quiz  Practical  Project  Final  CWAverage\n",
              "0  H00247      EDU  84.0       67.0     69.6   67.0  73.533333\n",
              "1  H00258      HLT  74.0       68.0     67.0   73.0  69.666667\n",
              "2  H00269      ENG  88.0       86.0     75.6   74.0  83.200000\n",
              "3  H00224      EDU   0.0       71.0     65.8   71.0  45.600000\n",
              "4  H00269      EDU  22.0       65.0     66.8   78.0  51.266667"
            ]
          },
          "metadata": {
            "tags": []
          },
          "execution_count": 34
        }
      ]
    }
  ]
}